{
 "cells": [
  {
   "cell_type": "markdown",
   "metadata": {
    "toc": "true"
   },
   "source": [
    "# Table of Contents\n",
    " <p><div class=\"lev1\"><a href=\"#Jupyter-notebooks\"><span class=\"toc-item-num\">1&nbsp;&nbsp;</span>Jupyter notebooks</a></div><div class=\"lev1\"><a href=\"#Instructions\"><span class=\"toc-item-num\">2&nbsp;&nbsp;</span>Instructions</a></div><div class=\"lev1\"><a href=\"#matplotlib\"><span class=\"toc-item-num\">3&nbsp;&nbsp;</span><code>matplotlib</code></a></div><div class=\"lev1\"><a href=\"#seaborn\"><span class=\"toc-item-num\">4&nbsp;&nbsp;</span><code>seaborn</code></a></div><div class=\"lev1\"><a href=\"#numpy\"><span class=\"toc-item-num\">5&nbsp;&nbsp;</span><code>numpy</code></a></div><div class=\"lev1\"><a href=\"#pandas\"><span class=\"toc-item-num\">6&nbsp;&nbsp;</span><code>pandas</code></a></div><div class=\"lev1\"><a href=\"#folium\"><span class=\"toc-item-num\">7&nbsp;&nbsp;</span><code>folium</code></a></div><div class=\"lev1\"><a href=\"#sklearn\"><span class=\"toc-item-num\">8&nbsp;&nbsp;</span><code>sklearn</code></a></div><div class=\"lev1\"><a href=\"#Missingno\"><span class=\"toc-item-num\">9&nbsp;&nbsp;</span><code>Missingno</code></a></div><div class=\"lev1\"><a href=\"#pivottablejs\"><span class=\"toc-item-num\">10&nbsp;&nbsp;</span><code>pivottablejs</code></a></div><div class=\"lev1\"><a href=\"#pandas_profiling\"><span class=\"toc-item-num\">11&nbsp;&nbsp;</span><code>pandas_profiling</code></a></div><div class=\"lev1\"><a href=\"#ipywidgets\"><span class=\"toc-item-num\">12&nbsp;&nbsp;</span><code>ipywidgets</code></a></div><div class=\"lev1\"><a href=\"#tqdm\"><span class=\"toc-item-num\">13&nbsp;&nbsp;</span><code>tqdm</code></a></div><div class=\"lev1\"><a href=\"#mpld3\"><span class=\"toc-item-num\">14&nbsp;&nbsp;</span><code>mpld3</code></a></div>"
   ]
  },
  {
   "cell_type": "markdown",
   "metadata": {},
   "source": [
    "# Jupyter notebooks"
   ]
  },
  {
   "cell_type": "markdown",
   "metadata": {},
   "source": [
    "If you are new to Jupyter notebooks, take a look around! There is a `user interface tour` under the `help` dropdown as well as some other useful links. "
   ]
  },
  {
   "cell_type": "markdown",
   "metadata": {},
   "source": [
    "# Instructions"
   ]
  },
  {
   "cell_type": "markdown",
   "metadata": {},
   "source": [
    "* Try to run all the cells in this notebook. \n",
    "* If you get errors, still try to run the other sections. There are limited dependencies. \n",
    "* At least run all of the cells with `import` in the them. \n",
    "* The html file in this directory, `test-my-environment.html` is what your notebook should look like if it runs successfully. \n",
    "* Take note of which packages don't load and feel free to post in the slack channel relevant to your OS (#macos, #linux, or #windows) the errors you are getting. \n",
    "* If you get errors, make sure to sign up for an account on https://notebooks.azure.com/ (see e-mail and repo README for more instructions)"
   ]
  },
  {
   "cell_type": "markdown",
   "metadata": {},
   "source": [
    "# `matplotlib`"
   ]
  },
  {
   "cell_type": "markdown",
   "metadata": {},
   "source": [
    "You want to issue the first command `%matplotlib inline` typically before all other commands."
   ]
  },
  {
   "cell_type": "code",
   "execution_count": null,
   "metadata": {
    "ExecuteTime": {
     "end_time": "2017-05-16T01:06:05.189868Z",
     "start_time": "2017-05-16T01:06:04.576137Z"
    },
    "collapsed": true,
    "run_control": {
     "frozen": false,
     "read_only": false
    }
   },
   "outputs": [],
   "source": [
    "%matplotlib inline\n",
    "%config InlineBackend.figure_format='retina'\n",
    "\n",
    "from matplotlib import pyplot as plt"
   ]
  },
  {
   "cell_type": "markdown",
   "metadata": {},
   "source": [
    "Assuming that worked, let's see if we can plot something and see it in the notebook: "
   ]
  },
  {
   "cell_type": "code",
   "execution_count": null,
   "metadata": {
    "ExecuteTime": {
     "end_time": "2017-05-16T01:06:05.464139Z",
     "start_time": "2017-05-16T01:06:05.191780Z"
    },
    "run_control": {
     "frozen": false,
     "read_only": false
    }
   },
   "outputs": [],
   "source": [
    "plt.plot(range(10),range(10));"
   ]
  },
  {
   "cell_type": "markdown",
   "metadata": {},
   "source": [
    "It won't be very exciting but you should now see a figure with a line drawn above ^^"
   ]
  },
  {
   "cell_type": "markdown",
   "metadata": {},
   "source": [
    "# `seaborn`"
   ]
  },
  {
   "cell_type": "markdown",
   "metadata": {},
   "source": [
    "`seaborn` replaces a lot of ugly defaults in `matplotlib` and makes plotting nice figures easier. "
   ]
  },
  {
   "cell_type": "code",
   "execution_count": null,
   "metadata": {
    "ExecuteTime": {
     "end_time": "2017-05-16T01:06:06.348452Z",
     "start_time": "2017-05-16T01:06:05.465944Z"
    },
    "collapsed": true,
    "run_control": {
     "frozen": false,
     "read_only": false
    }
   },
   "outputs": [],
   "source": [
    "import seaborn as sns\n",
    "sns.set_context(\"poster\", font_scale=1.3)"
   ]
  },
  {
   "cell_type": "code",
   "execution_count": null,
   "metadata": {
    "ExecuteTime": {
     "end_time": "2017-05-16T01:06:07.043703Z",
     "start_time": "2017-05-16T01:06:06.350635Z"
    },
    "run_control": {
     "frozen": false,
     "read_only": false
    }
   },
   "outputs": [],
   "source": [
    "sns.plt.plot(range(10), range(10));"
   ]
  },
  {
   "cell_type": "markdown",
   "metadata": {},
   "source": [
    "You should now see the same figure as with matplotlib but formatted somewhat more nicely. "
   ]
  },
  {
   "cell_type": "markdown",
   "metadata": {},
   "source": [
    "# `numpy`"
   ]
  },
  {
   "cell_type": "markdown",
   "metadata": {},
   "source": [
    "`numpy` helps us do math good and other stuff good too. Try importing it. "
   ]
  },
  {
   "cell_type": "code",
   "execution_count": null,
   "metadata": {
    "ExecuteTime": {
     "end_time": "2017-05-16T01:06:07.047763Z",
     "start_time": "2017-05-16T01:06:07.045223Z"
    },
    "collapsed": true,
    "run_control": {
     "frozen": false,
     "read_only": false
    }
   },
   "outputs": [],
   "source": [
    "import numpy as np"
   ]
  },
  {
   "cell_type": "markdown",
   "metadata": {},
   "source": [
    "Let's try generating some random numbers."
   ]
  },
  {
   "cell_type": "code",
   "execution_count": null,
   "metadata": {
    "ExecuteTime": {
     "end_time": "2017-05-16T01:06:07.054500Z",
     "start_time": "2017-05-16T01:06:07.049098Z"
    },
    "run_control": {
     "frozen": false,
     "read_only": false
    }
   },
   "outputs": [],
   "source": [
    "np.random.rand(10)"
   ]
  },
  {
   "cell_type": "markdown",
   "metadata": {},
   "source": [
    "The above should produce an [*array*](https://docs.scipy.org/doc/numpy/user/quickstart.html) with 10 random numbers."
   ]
  },
  {
   "cell_type": "code",
   "execution_count": null,
   "metadata": {
    "ExecuteTime": {
     "end_time": "2017-05-16T01:06:07.060428Z",
     "start_time": "2017-05-16T01:06:07.056481Z"
    },
    "collapsed": true,
    "run_control": {
     "frozen": false,
     "read_only": false
    }
   },
   "outputs": [],
   "source": [
    "import os, sys\n",
    "import warnings\n",
    "warnings.filterwarnings('ignore')\n"
   ]
  },
  {
   "cell_type": "markdown",
   "metadata": {},
   "source": [
    "# `pandas`  "
   ]
  },
  {
   "cell_type": "markdown",
   "metadata": {},
   "source": [
    "We will be using `pandas` wrangle our data."
   ]
  },
  {
   "cell_type": "code",
   "execution_count": null,
   "metadata": {
    "ExecuteTime": {
     "end_time": "2017-05-16T01:06:07.065050Z",
     "start_time": "2017-05-16T01:06:07.061985Z"
    },
    "collapsed": true,
    "run_control": {
     "frozen": false,
     "read_only": false
    }
   },
   "outputs": [],
   "source": [
    "import pandas as pd"
   ]
  },
  {
   "cell_type": "code",
   "execution_count": null,
   "metadata": {
    "ExecuteTime": {
     "end_time": "2017-05-16T01:06:07.081306Z",
     "start_time": "2017-05-16T01:06:07.066654Z"
    },
    "run_control": {
     "frozen": false,
     "read_only": false
    }
   },
   "outputs": [],
   "source": [
    "data = pd.DataFrame([[1,2,3],[4,5,6]], \n",
    "                    columns=['a','b','c'], \n",
    "                    index=['one','two'])\n",
    "data.head()"
   ]
  },
  {
   "cell_type": "markdown",
   "metadata": {},
   "source": [
    "The above should output the first five rows (or the *head*) of a `pandas` dataframe holding the dataset held within the `aquastat-world-long.csv`. "
   ]
  },
  {
   "cell_type": "markdown",
   "metadata": {},
   "source": [
    "# `folium` "
   ]
  },
  {
   "cell_type": "markdown",
   "metadata": {},
   "source": [
    "We will be looking at some data on maps so let's make sure folium works."
   ]
  },
  {
   "cell_type": "code",
   "execution_count": null,
   "metadata": {
    "ExecuteTime": {
     "end_time": "2017-05-16T01:06:07.467943Z",
     "start_time": "2017-05-16T01:06:07.082739Z"
    },
    "collapsed": true,
    "run_control": {
     "frozen": false,
     "read_only": false
    }
   },
   "outputs": [],
   "source": [
    "import folium"
   ]
  },
  {
   "cell_type": "code",
   "execution_count": null,
   "metadata": {
    "ExecuteTime": {
     "end_time": "2017-05-16T01:06:07.513180Z",
     "start_time": "2017-05-16T01:06:07.469651Z"
    },
    "collapsed": true,
    "run_control": {
     "frozen": false,
     "read_only": false
    }
   },
   "outputs": [],
   "source": [
    "map = folium.Map(location=[45.528163,-122.6643382], zoom_start=16,\n",
    "                     width=1200, height=600)"
   ]
  },
  {
   "cell_type": "code",
   "execution_count": null,
   "metadata": {
    "ExecuteTime": {
     "end_time": "2017-05-16T01:06:07.569493Z",
     "start_time": "2017-05-16T01:06:07.514694Z"
    },
    "run_control": {
     "frozen": false,
     "read_only": false
    }
   },
   "outputs": [],
   "source": [
    "map"
   ]
  },
  {
   "cell_type": "markdown",
   "metadata": {},
   "source": [
    "You should now see above a map of where you are **right** now... creepy. Okay, actually, it's only showing where you are if you're already at PyCon! "
   ]
  },
  {
   "cell_type": "markdown",
   "metadata": {},
   "source": [
    "# `sklearn`"
   ]
  },
  {
   "cell_type": "markdown",
   "metadata": {},
   "source": [
    "We will use the `sklearn` package for doing some more advanced exploration of high-dimensional data. "
   ]
  },
  {
   "cell_type": "code",
   "execution_count": null,
   "metadata": {
    "ExecuteTime": {
     "end_time": "2017-05-16T01:06:07.676841Z",
     "start_time": "2017-05-16T01:06:07.570841Z"
    },
    "collapsed": true,
    "run_control": {
     "frozen": false,
     "read_only": false
    }
   },
   "outputs": [],
   "source": [
    "from sklearn import datasets"
   ]
  },
  {
   "cell_type": "code",
   "execution_count": null,
   "metadata": {
    "ExecuteTime": {
     "end_time": "2017-05-16T01:06:07.684151Z",
     "start_time": "2017-05-16T01:06:07.678744Z"
    },
    "collapsed": true,
    "run_control": {
     "frozen": false,
     "read_only": false
    }
   },
   "outputs": [],
   "source": [
    "iris_data = datasets.load_iris()"
   ]
  },
  {
   "cell_type": "code",
   "execution_count": null,
   "metadata": {
    "ExecuteTime": {
     "end_time": "2017-05-16T01:06:07.689491Z",
     "start_time": "2017-05-16T01:06:07.685580Z"
    },
    "collapsed": true,
    "run_control": {
     "frozen": false,
     "read_only": false
    }
   },
   "outputs": [],
   "source": [
    "df = pd.DataFrame(iris_data.data, columns=iris_data.feature_names)\n",
    "df['target'] = iris_data.target"
   ]
  },
  {
   "cell_type": "code",
   "execution_count": null,
   "metadata": {
    "ExecuteTime": {
     "end_time": "2017-05-16T01:06:07.701112Z",
     "start_time": "2017-05-16T01:06:07.690969Z"
    },
    "run_control": {
     "frozen": false,
     "read_only": false
    }
   },
   "outputs": [],
   "source": [
    "df.head()"
   ]
  },
  {
   "cell_type": "markdown",
   "metadata": {},
   "source": [
    "# `Missingno`"
   ]
  },
  {
   "cell_type": "markdown",
   "metadata": {},
   "source": [
    "We will use the [`missingno`](https://github.com/ResidentMario/missingno) package to assess missing data. "
   ]
  },
  {
   "cell_type": "code",
   "execution_count": null,
   "metadata": {
    "ExecuteTime": {
     "end_time": "2017-05-16T01:06:07.718422Z",
     "start_time": "2017-05-16T01:06:07.703168Z"
    },
    "collapsed": true,
    "run_control": {
     "frozen": false,
     "read_only": false
    }
   },
   "outputs": [],
   "source": [
    "import missingno as msno"
   ]
  },
  {
   "cell_type": "code",
   "execution_count": null,
   "metadata": {
    "ExecuteTime": {
     "end_time": "2017-05-16T01:06:09.185467Z",
     "start_time": "2017-05-16T01:06:07.719976Z"
    },
    "run_control": {
     "frozen": false,
     "read_only": false
    },
    "scrolled": false
   },
   "outputs": [],
   "source": [
    "msno.bar(df)"
   ]
  },
  {
   "cell_type": "markdown",
   "metadata": {},
   "source": [
    "You should see a bar plot above. Don't worry about what it means right now! "
   ]
  },
  {
   "cell_type": "markdown",
   "metadata": {},
   "source": [
    "# `pivottablejs`"
   ]
  },
  {
   "cell_type": "code",
   "execution_count": null,
   "metadata": {
    "ExecuteTime": {
     "end_time": "2017-05-16T01:06:09.189889Z",
     "start_time": "2017-05-16T01:06:09.187024Z"
    },
    "collapsed": true,
    "run_control": {
     "frozen": false,
     "read_only": false
    }
   },
   "outputs": [],
   "source": [
    "import pivottablejs"
   ]
  },
  {
   "cell_type": "code",
   "execution_count": null,
   "metadata": {
    "ExecuteTime": {
     "end_time": "2017-05-16T01:06:09.196156Z",
     "start_time": "2017-05-16T01:06:09.191201Z"
    },
    "run_control": {
     "frozen": false,
     "read_only": false
    }
   },
   "outputs": [],
   "source": [
    "pivottablejs.pivot_ui(df)"
   ]
  },
  {
   "cell_type": "markdown",
   "metadata": {},
   "source": [
    "# `pandas_profiling`"
   ]
  },
  {
   "cell_type": "code",
   "execution_count": null,
   "metadata": {
    "ExecuteTime": {
     "end_time": "2017-05-16T01:06:09.247319Z",
     "start_time": "2017-05-16T01:06:09.197321Z"
    },
    "collapsed": true,
    "run_control": {
     "frozen": false,
     "read_only": false
    }
   },
   "outputs": [],
   "source": [
    "import pandas_profiling"
   ]
  },
  {
   "cell_type": "code",
   "execution_count": null,
   "metadata": {
    "ExecuteTime": {
     "end_time": "2017-05-16T01:06:09.737342Z",
     "start_time": "2017-05-16T01:06:09.249181Z"
    },
    "run_control": {
     "frozen": false,
     "read_only": false
    },
    "scrolled": false
   },
   "outputs": [],
   "source": [
    "pandas_profiling.ProfileReport(df)"
   ]
  },
  {
   "cell_type": "markdown",
   "metadata": {},
   "source": [
    "# `ipywidgets`"
   ]
  },
  {
   "cell_type": "markdown",
   "metadata": {},
   "source": [
    "We can use `ipywidgits` to create interactive outputs. Before being able to use `ipywidgets` you need to have already run the following from the command line (as was instructed in the repo README): \n",
    "\n",
    "`jupyter nbextension enable --py --sys-prefix widgetsnbextension`"
   ]
  },
  {
   "cell_type": "code",
   "execution_count": null,
   "metadata": {
    "ExecuteTime": {
     "end_time": "2017-05-16T01:06:09.743459Z",
     "start_time": "2017-05-16T01:06:09.739895Z"
    },
    "collapsed": true,
    "run_control": {
     "frozen": false,
     "read_only": false
    }
   },
   "outputs": [],
   "source": [
    "import ipywidgets as widgets"
   ]
  },
  {
   "cell_type": "code",
   "execution_count": null,
   "metadata": {
    "ExecuteTime": {
     "end_time": "2017-05-16T01:06:09.757329Z",
     "start_time": "2017-05-16T01:06:09.745673Z"
    },
    "collapsed": true,
    "run_control": {
     "frozen": false,
     "read_only": false
    }
   },
   "outputs": [],
   "source": [
    "slider = widgets.IntSlider(min=0, max=10,value=5, description='Line width:')"
   ]
  },
  {
   "cell_type": "code",
   "execution_count": null,
   "metadata": {
    "ExecuteTime": {
     "end_time": "2017-05-16T01:06:09.764341Z",
     "start_time": "2017-05-16T01:06:09.759053Z"
    },
    "collapsed": true,
    "run_control": {
     "frozen": false,
     "read_only": false
    },
    "scrolled": true
   },
   "outputs": [],
   "source": [
    "def plot(x, y, linewidth=1):\n",
    "    fig, ax = plt.subplots(figsize=(8,6))\n",
    "    plt.plot(x, y, linewidth=linewidth)\n",
    "    plt.close()\n",
    "    return fig"
   ]
  },
  {
   "cell_type": "code",
   "execution_count": null,
   "metadata": {
    "ExecuteTime": {
     "end_time": "2017-05-16T01:06:10.340638Z",
     "start_time": "2017-05-16T01:06:09.766164Z"
    },
    "run_control": {
     "frozen": false,
     "read_only": false
    }
   },
   "outputs": [],
   "source": [
    "widgets.interact(plot, x=widgets.fixed(range(10)), \n",
    "                 y=widgets.fixed(range(10)),\n",
    "                 linewidth=slider);"
   ]
  },
  {
   "cell_type": "markdown",
   "metadata": {},
   "source": [
    "# `tqdm`"
   ]
  },
  {
   "cell_type": "markdown",
   "metadata": {},
   "source": [
    "`tqdm` is nice for monitoring how long your `for` loops are taking. "
   ]
  },
  {
   "cell_type": "code",
   "execution_count": null,
   "metadata": {
    "ExecuteTime": {
     "end_time": "2017-05-16T01:06:10.350663Z",
     "start_time": "2017-05-16T01:06:10.342141Z"
    },
    "collapsed": true,
    "run_control": {
     "frozen": false,
     "read_only": false
    }
   },
   "outputs": [],
   "source": [
    "from tqdm import tqdm"
   ]
  },
  {
   "cell_type": "code",
   "execution_count": null,
   "metadata": {
    "ExecuteTime": {
     "end_time": "2017-05-16T01:06:14.438689Z",
     "start_time": "2017-05-16T01:06:10.352216Z"
    },
    "run_control": {
     "frozen": false,
     "read_only": false
    }
   },
   "outputs": [],
   "source": [
    "test = []\n",
    "for i in tqdm(range(10000000)):\n",
    "    test.append(i)"
   ]
  },
  {
   "cell_type": "code",
   "execution_count": null,
   "metadata": {
    "ExecuteTime": {
     "end_time": "2017-05-16T01:06:14.567470Z",
     "start_time": "2017-05-16T01:06:14.440135Z"
    },
    "run_control": {
     "frozen": false,
     "read_only": false
    }
   },
   "outputs": [],
   "source": [
    "clear test"
   ]
  },
  {
   "cell_type": "code",
   "execution_count": null,
   "metadata": {
    "ExecuteTime": {
     "end_time": "2017-05-16T01:06:14.732133Z",
     "start_time": "2017-05-16T01:06:14.569261Z"
    },
    "collapsed": true,
    "run_control": {
     "frozen": false,
     "read_only": false
    }
   },
   "outputs": [],
   "source": [
    "import mpld3"
   ]
  },
  {
   "cell_type": "markdown",
   "metadata": {},
   "source": [
    "# `mpld3`"
   ]
  },
  {
   "cell_type": "markdown",
   "metadata": {},
   "source": [
    "`mpld3` allows for some nice interactive functionality using D3. We will just run an [example](https://mpld3.github.io/examples/html_tooltips.html) from the `mpld3` repo. "
   ]
  },
  {
   "cell_type": "code",
   "execution_count": null,
   "metadata": {
    "ExecuteTime": {
     "end_time": "2017-05-16T01:06:14.736500Z",
     "start_time": "2017-05-16T01:06:14.733734Z"
    },
    "collapsed": true,
    "run_control": {
     "frozen": false,
     "read_only": false
    }
   },
   "outputs": [],
   "source": [
    "import mpld3\n",
    "from mpld3 import plugins"
   ]
  },
  {
   "cell_type": "code",
   "execution_count": null,
   "metadata": {
    "ExecuteTime": {
     "end_time": "2017-05-16T01:06:14.741273Z",
     "start_time": "2017-05-16T01:06:14.737977Z"
    },
    "collapsed": true,
    "run_control": {
     "frozen": false,
     "read_only": false
    }
   },
   "outputs": [],
   "source": [
    "mpld3.enable_notebook()"
   ]
  },
  {
   "cell_type": "code",
   "execution_count": null,
   "metadata": {
    "ExecuteTime": {
     "end_time": "2017-05-16T01:06:15.576318Z",
     "start_time": "2017-05-16T01:06:14.742783Z"
    },
    "run_control": {
     "frozen": false,
     "read_only": false
    }
   },
   "outputs": [],
   "source": [
    "fig, ax = plt.subplots()\n",
    "ax.grid(True, alpha=0.3)\n",
    "\n",
    "N = 50\n",
    "df = pd.DataFrame(index=range(N))\n",
    "df['x'] = np.random.randn(N)\n",
    "df['y'] = np.random.randn(N)\n",
    "df['z'] = np.random.randn(N)\n",
    "\n",
    "labels = []\n",
    "for i in range(N):\n",
    "    label = df.ix[[i], :].T\n",
    "    label.columns = ['Row {0}'.format(i)]\n",
    "    # .to_html() is unicode; so make leading 'u' go away with str()\n",
    "    labels.append(str(label.to_html()))\n",
    "\n",
    "points = ax.plot(df.x, df.y, 'o', color='b',\n",
    "                 mec='k', ms=15, mew=1, alpha=.6)\n",
    "\n",
    "ax.set_xlabel('x')\n",
    "ax.set_ylabel('y')\n",
    "ax.set_title('HTML tooltips', size=20)\n",
    "\n",
    "tooltip = plugins.PointHTMLTooltip(points[0], labels,\n",
    "                                   voffset=10, hoffset=10)\n",
    "plugins.connect(fig, tooltip)"
   ]
  }
 ],
 "metadata": {
  "kernelspec": {
   "display_name": "Python 3",
   "language": "python",
   "name": "python3"
  },
  "language_info": {
   "codemirror_mode": {
    "name": "ipython",
    "version": 3
   },
   "file_extension": ".py",
   "mimetype": "text/x-python",
   "name": "python",
   "nbconvert_exporter": "python",
   "pygments_lexer": "ipython3",
   "version": "3.6.1"
  },
  "nav_menu": {},
  "toc": {
   "navigate_menu": true,
   "number_sections": true,
   "sideBar": true,
   "threshold": 6,
   "toc_cell": true,
   "toc_section_display": "block",
   "toc_window_display": false
  }
 },
 "nbformat": 4,
 "nbformat_minor": 2
}
